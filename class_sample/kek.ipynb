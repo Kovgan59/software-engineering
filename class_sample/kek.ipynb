{
 "cells": [
  {
   "cell_type": "code",
   "execution_count": 42,
   "metadata": {},
   "outputs": [],
   "source": [
    "class MyClass(): \n",
    "    temp_list = [] \n",
    "    temp_tuple = () \n",
    "    temp_set = set() \n",
    "    temp_dict = {} \n",
    "    var = [temp_list, temp_tuple, temp_set, temp_dict] \n",
    "\n",
    "\n",
    "    def set_list(self, *args): \n",
    "        self.temp_list.extend(args) \n",
    "\n",
    "\n",
    "    def set_tuple(self, *args): \n",
    "        if self.temp_tuple == (): \n",
    "            self.temp_tuple = args \n",
    "        else: \n",
    "            print('Кортеж невозможно изменить') \n",
    "\n",
    "\n",
    "    def set_set(self, *args): \n",
    "        self.temp_set.update(args) \n",
    "\n",
    "\n",
    "    def set_dict(self, **kwargs): \n",
    "        self.temp_dict.update(kwargs) \n",
    "\n",
    "\n",
    "    def print_all(self): \n",
    "        print('list:', self.temp_list, 'tuple:', self.temp_tuple, 'set:', self.temp_set, 'dict:', self.temp_dict, sep = '\\n'    ) \n",
    "\n",
    "\n",
    "    def find_elem(self, elem): \n",
    "        for i in [self.temp_list, self.temp_tuple, self.temp_set, self.temp_dict]: \n",
    "            if i == self.temp_dict: \n",
    "                if elem in self.temp_dict.keys() or elem in self.temp_dict.values(): \n",
    "                    print(i) \n",
    "            elif elem in i: \n",
    "                print(i) \n",
    "\n",
    "    "
   ]
  },
  {
   "cell_type": "code",
   "execution_count": 43,
   "metadata": {},
   "outputs": [
    {
     "name": "stdout",
     "output_type": "stream",
     "text": [
      "list:\n",
      "[1, 2, 2, 3, 3, 3]\n",
      "tuple:\n",
      "(1, 2, 2, 3, 3, 3)\n",
      "set:\n",
      "{1, 2, 3}\n",
      "dict:\n",
      "{'a': 2}\n"
     ]
    }
   ],
   "source": [
    "b = MyClass() \n",
    "b.set_set(1,2,2,3,3,3) \n",
    "b.set_tuple(1,2,2,3,3,3) \n",
    "b.set_list(1,2,2,3,3,3) \n",
    "b.set_dict(a = 2) \n",
    "# b.find_elem(1)\n",
    "b.print_all()"
   ]
  }
 ],
 "metadata": {
  "kernelspec": {
   "display_name": "Python 3.9.13 64-bit",
   "language": "python",
   "name": "python3"
  },
  "language_info": {
   "codemirror_mode": {
    "name": "ipython",
    "version": 3
   },
   "file_extension": ".py",
   "mimetype": "text/x-python",
   "name": "python",
   "nbconvert_exporter": "python",
   "pygments_lexer": "ipython3",
   "version": "3.9.13"
  },
  "orig_nbformat": 4,
  "vscode": {
   "interpreter": {
    "hash": "67f1dc6f6f712f7142079021955b91e049abb319dcfdc9eed010dd73dd4d845d"
   }
  }
 },
 "nbformat": 4,
 "nbformat_minor": 2
}
